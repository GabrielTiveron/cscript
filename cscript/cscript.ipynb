{
 "cells": [
  {
   "cell_type": "code",
   "execution_count": 1,
   "metadata": {
    "colab": {},
    "colab_type": "code",
    "id": "yd271NNwGEcD"
   },
   "outputs": [],
   "source": [
    "from pprint import pprint\n",
    "from collections import ChainMap\n",
    "from lark import Lark, InlineTransformer, Tree, Token\n",
    "Tree._repr_html_ = lambda t: '<pre>%s</pre>' % t.pretty()\n",
    "from runtime import eval\n",
    "from parser import CscriptTransformer\n",
    "from grammar import cscript\n",
    "from symbol import Symbol"
   ]
  },
  {
   "cell_type": "code",
   "execution_count": 2,
   "metadata": {
    "colab": {
     "base_uri": "https://localhost:8080/",
     "height": 68
    },
    "colab_type": "code",
    "executionInfo": {
     "elapsed": 1063,
     "status": "ok",
     "timestamp": 1576096248847,
     "user": {
      "displayName": "Gabriel Tiveron",
      "photoUrl": "",
      "userId": "00555851536675885090"
     },
     "user_tz": 180
    },
    "id": "OK-rbXx-IOBm",
    "outputId": "6b291b64-9035-4843-c5b3-49f218f44506"
   },
   "outputs": [
    {
     "data": {
      "text/plain": [
       "4.0"
      ]
     },
     "execution_count": 2,
     "metadata": {},
     "output_type": "execute_result"
    }
   ],
   "source": [
    "# Teste de gramática para operadores binários\n",
    "value_sum = cscript.parse('1 + 2')\n",
    "value_sub = cscript.parse('3 - 2')\n",
    "value_mul = cscript.parse('12 * 3')\n",
    "value_div = cscript.parse('14 / 2')\n",
    "value_pow = cscript.parse('2 ^ 10')\n",
    "soma = CscriptTransformer().transform(value_sum)\n",
    "sub  = CscriptTransformer().transform(value_sub) \n",
    "mul = CscriptTransformer().transform(value_mul)\n",
    "div = CscriptTransformer().transform(value_div)\n",
    "pow_ = CscriptTransformer().transform(value_pow)\n",
    "\n",
    "assert soma == [Symbol.ADD, 1.0, 2.0]\n",
    "assert sub == [Symbol.SUB, 3.0, 2.0]\n",
    "assert mul == [Symbol.MUL, 12.0, 3.0]\n",
    "assert div == [Symbol.DIV, 14, 2]\n",
    "assert pow_ == [Symbol.POW, 2, 10]\n",
    "\n",
    "value_if = cscript.parse('if (T){2 + 2} else if (T){2 - 2}')\n",
    "value_Eq = cscript.parse('if (2 == 2){1 + 2}')\n",
    "value_Gt = cscript.parse('if (3 > 1){3 + 5}')\n",
    "value_Le = cscript.parse('if (4 <= 5){2 + 5}')\n",
    "value_Lt = cscript.parse('if (3 < 5){3 * 1}')\n",
    "value_Ge = cscript.parse('if (3 >= 4){2 ^ 3}')\n",
    "if_if = CscriptTransformer().transform(value_if)\n",
    "if_Eq = CscriptTransformer().transform(value_Eq)\n",
    "if_Gt = CscriptTransformer().transform(value_Gt)\n",
    "if_Le = CscriptTransformer().transform(value_Le)\n",
    "if_Lt = CscriptTransformer().transform(value_Lt)\n",
    "if_Ge = CscriptTransformer().transform(value_Ge)\n",
    "\n",
    "\n",
    "assert if_if == [Symbol.IF, True, [Symbol.ADD, 2.0, 2.0], [[True, [Symbol.SUB, 2.0, 2.0]]]]\n",
    "assert if_Eq == [Symbol.IF, [Symbol.EQ, 2.0, 2.0], [Symbol.ADD, 1.0, 2.0]]\n",
    "assert if_Gt == [Symbol.IF, [Symbol.GT, 3.0, 1.0], [Symbol.ADD, 3, 5]]\n",
    "assert if_Le == [Symbol.IF, [Symbol.LE, 4.0, 5.0], [Symbol.ADD, 2, 5]]\n",
    "assert if_Lt == [Symbol.IF, [Symbol.LT, 3.0, 5.0], [Symbol.MUL, 3, 1]]\n",
    "assert if_Ge == [Symbol.IF, [Symbol.GE, 3.0, 4.0], [Symbol.POW, 2, 3]]\n",
    "\n",
    "value_ternario = cscript.parse('asd = 3 > 0 ? 1 : 2')\n",
    "if_ternario = CscriptTransformer().transform(value_ternario)\n",
    "\n",
    "\n",
    "assert if_ternario == [Symbol.TERN, Symbol('asd'), [Symbol.GT, 3, 0], 1, 2]\n",
    "eval(if_if, {})\n",
    "#assert fat_func    ==[Symbol.FUNC, ['x', [Symbol.IF, [Symbol.LE, Symbol('x'), 1], [Symbol('return'), [1]], Symbol('return'), [Symbol.MUL, x, [Symbol('fat'), [Symbol.SUB, x, 1]]]]]]"
   ]
  },
  {
   "cell_type": "code",
   "execution_count": 3,
   "metadata": {
    "colab": {
     "base_uri": "https://localhost:8080/",
     "height": 408
    },
    "colab_type": "code",
    "executionInfo": {
     "elapsed": 646,
     "status": "ok",
     "timestamp": 1576096249958,
     "user": {
      "displayName": "Gabriel Tiveron",
      "photoUrl": "",
      "userId": "00555851536675885090"
     },
     "user_tz": 180
    },
    "id": "ZDnQ614LIuYg",
    "outputId": "d5a0c3ea-ca39-4d1c-81c8-1467d754e03c"
   },
   "outputs": [],
   "source": [
    "assert eval(div, {}) == 7 \n",
    "assert eval(soma, {}) == 3\n",
    "assert eval(sub, {}) == 1\n",
    "assert eval(mul, {}) == 36\n",
    "assert eval(pow_, {}) == 1024\n",
    "\n",
    "\n",
    "assert eval(if_if, {}) == 4\n",
    "assert eval(if_Eq, {}) == 3\n",
    "assert eval(if_Gt, {}) == 8\n",
    "assert eval(if_Le, {}) == 7\n",
    "assert eval(if_Lt, {}) == 3\n",
    "assert eval(if_Ge, {}) is None\n",
    "\n",
    "env = {'asd': 2}\n",
    "assert eval(if_ternario, env) == None\n",
    "assert env[Symbol('asd')] == 1"
   ]
  },
  {
   "cell_type": "code",
   "execution_count": 4,
   "metadata": {
    "colab": {
     "base_uri": "https://localhost:8080/",
     "height": 51
    },
    "colab_type": "code",
    "executionInfo": {
     "elapsed": 602,
     "status": "ok",
     "timestamp": 1576096251806,
     "user": {
      "displayName": "Gabriel Tiveron",
      "photoUrl": "",
      "userId": "00555851536675885090"
     },
     "user_tz": 180
    },
    "id": "ciucHV9fsX-z",
    "outputId": "b48de3b7-1f74-4217-b406-220143aca033"
   },
   "outputs": [],
   "source": [
    "\n",
    "env = {Symbol('b'): 2}\n",
    "print_ = cscript.parse('b = b == 2 ? 6 : 0')\n",
    "print_eval = CscriptTransformer().transform(print_)\n",
    "eval(print_eval, env)\n",
    "assert env[Symbol('b')] == 6"
   ]
  },
  {
   "cell_type": "code",
   "execution_count": 5,
   "metadata": {
    "colab": {
     "base_uri": "https://localhost:8080/",
     "height": 85
    },
    "colab_type": "code",
    "executionInfo": {
     "elapsed": 629,
     "status": "ok",
     "timestamp": 1576096253355,
     "user": {
      "displayName": "Gabriel Tiveron",
      "photoUrl": "",
      "userId": "00555851536675885090"
     },
     "user_tz": 180
    },
    "id": "GqRVjSYLVtnW",
    "outputId": "2751e6df-fd36-4e21-bbfe-cf60badae311"
   },
   "outputs": [],
   "source": [
    "func = cscript.parse('func lambda (a, b, c){a + b - c}')\n",
    "call = cscript.parse('lambda(15, 94, 2)')\n",
    "eval_func = CscriptTransformer().transform(func)\n",
    "eval_call = CscriptTransformer().transform(call)\n",
    "env = ChainMap()\n",
    "assert eval(eval_func, env) is None\n",
    "assert eval(eval_call, env) == 107"
   ]
  },
  {
   "cell_type": "code",
   "execution_count": 6,
   "metadata": {
    "colab": {
     "base_uri": "https://localhost:8080/",
     "height": 850
    },
    "colab_type": "code",
    "executionInfo": {
     "elapsed": 649,
     "status": "ok",
     "timestamp": 1576096254837,
     "user": {
      "displayName": "Gabriel Tiveron",
      "photoUrl": "",
      "userId": "00555851536675885090"
     },
     "user_tz": 180
    },
    "id": "oP_W3-HB0qzv",
    "outputId": "c4babb3e-c025-4c0d-9bb2-b2eb1ea7c931"
   },
   "outputs": [
    {
     "name": "stdout",
     "output_type": "stream",
     "text": [
      "[block, [[=, a, 2.0], [for, [=, x, 3.0], [<=, x, 10.0], [=, x, [+, x, 1.0]], [=, a, [+, a, x]]], a]]\n"
     ]
    }
   ],
   "source": [
    "loop = cscript.parse(\"\"\"\n",
    "    a = 2;\n",
    "  \n",
    "    for(x = 3; x <= 10; x = x + 1){\n",
    "        a = a + x\n",
    "    };\n",
    "    \n",
    "    a\n",
    "\"\"\")\n",
    "loop_transform = CscriptTransformer().transform(loop)\n",
    "print(loop_transform)\n",
    "env = {}\n",
    "assert eval(loop_transform, env) == 54\n",
    "#assert env[1] == ChainMap({Symbol('x'): 11.0}, {Symbol('a'): 2.0, Symbol('x'): 3.0})"
   ]
  },
  {
   "cell_type": "code",
   "execution_count": 7,
   "metadata": {
    "colab": {},
    "colab_type": "code",
    "id": "0_oMvPbvpxpx"
   },
   "outputs": [],
   "source": [
    "fat = cscript.parse(r\"\"\"\n",
    "   // Função para calcular o fatorial\n",
    "   func fat ( x ) { \n",
    "     if(x <= 1){\n",
    "       1\n",
    "     }\n",
    "     else{\n",
    "       x * fat( x - 1 )\n",
    "     }\n",
    "   };\n",
    "   a = fat(7)\n",
    "   a\n",
    "\"\"\")\n",
    "#at_call = cscript.parse('x = fat(5); x')"
   ]
  },
  {
   "cell_type": "code",
   "execution_count": 8,
   "metadata": {
    "colab": {
     "base_uri": "https://localhost:8080/",
     "height": 197
    },
    "colab_type": "code",
    "executionInfo": {
     "elapsed": 593,
     "status": "error",
     "timestamp": 1576094622474,
     "user": {
      "displayName": "Gabriel Tiveron",
      "photoUrl": "",
      "userId": "00555851536675885090"
     },
     "user_tz": 180
    },
    "id": "9N3bv9BqhfY5",
    "outputId": "1d53e1b3-a179-400e-dfac-79a21ed9e7af"
   },
   "outputs": [
    {
     "name": "stdout",
     "output_type": "stream",
     "text": [
      "[[block, [[func, fat, [x], [if, [<=, x, 1.0], 1.0, [[*, x, [call, fat, [[-, x, 1.0]]]]]]], [=, a, [call, fat, [7.0]]]]], a]\n",
      "{fat: <function eval.<locals>.fn at 0x7f756ff83290>, a: 1.0}\n"
     ]
    }
   ],
   "source": [
    "fat_eval = CscriptTransformer().transform(fat)\n",
    "#call_eval = CscriptTransformer().transform(fat_call)\n",
    "\n",
    "env = {}\n",
    "print(fat_eval)\n",
    "eval(fat_eval, env)\n",
    "print(env)\n",
    "#assert eval(fat_eval, env) is None\n",
    "#print(env)\n",
    "#print(eval(call_eval, env))\n",
    "#assert eval(call_eval, env) == 120\n"
   ]
  },
  {
   "cell_type": "code",
   "execution_count": 12,
   "metadata": {},
   "outputs": [],
   "source": [
    "while_p = cscript.parse(\"\"\"\n",
    "    a = 1;\n",
    "    while(a < 10){\n",
    "        a = a + 1\n",
    "    }\n",
    "\"\"\")"
   ]
  },
  {
   "cell_type": "code",
   "execution_count": 13,
   "metadata": {},
   "outputs": [],
   "source": [
    "while_trans = CscriptTransformer().transform(while_p)"
   ]
  },
  {
   "cell_type": "code",
   "execution_count": 15,
   "metadata": {},
   "outputs": [
    {
     "name": "stdout",
     "output_type": "stream",
     "text": [
      "WHILE  None\n",
      "WHILE  None\n",
      "WHILE  None\n",
      "WHILE  None\n",
      "WHILE  None\n",
      "WHILE  None\n",
      "WHILE  None\n",
      "WHILE  None\n",
      "WHILE  None\n"
     ]
    }
   ],
   "source": [
    "env = {}\n",
    "eval(while_trans, env)\n",
    "assert env[Symbol('a')] == 10"
   ]
  },
  {
   "cell_type": "code",
   "execution_count": null,
   "metadata": {},
   "outputs": [],
   "source": []
  }
 ],
 "metadata": {
  "colab": {
   "collapsed_sections": [],
   "name": "cscript.ipynb",
   "provenance": []
  },
  "kernelspec": {
   "display_name": "Python 3",
   "language": "python",
   "name": "python3"
  },
  "language_info": {
   "codemirror_mode": {
    "name": "ipython",
    "version": 3
   },
   "file_extension": ".py",
   "mimetype": "text/x-python",
   "name": "python",
   "nbconvert_exporter": "python",
   "pygments_lexer": "ipython3",
   "version": "3.7.5"
  }
 },
 "nbformat": 4,
 "nbformat_minor": 1
}
