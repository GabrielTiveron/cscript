{
 "cells": [
  {
   "cell_type": "code",
   "execution_count": 1,
   "metadata": {
    "colab": {},
    "colab_type": "code",
    "id": "yd271NNwGEcD"
   },
   "outputs": [],
   "source": [
    "from pprint import pprint\n",
    "from collections import ChainMap\n",
    "from lark import Lark, InlineTransformer, Tree, Token\n",
    "Tree._repr_html_ = lambda t: '<pre>%s</pre>' % t.pretty()\n",
    "from runtime import eval\n",
    "from parser import parse, CscriptTransformer\n",
    "from grammar import cscript\n",
    "from symbol import Symbol"
   ]
  },
  {
   "cell_type": "markdown",
   "metadata": {},
   "source": [
    "# CScript\n",
    "----------------------------------------------\n",
    "A linguagem CScript se baseia na linguagem C, porém age de forma menos formal, com menos burocracia para sua execução, abaixo podemos ver uma diferença entre o código C e o CScript:\n",
    "\n",
    "                                              \n",
    "```\n",
    "CScript                                                 C\n",
    "func fat (x){                                           int fat (x){\n",
    "    if(x <= 1){                                            if(x <= 1){\n",
    "        1                                                      return 1;\n",
    "    }                                                      }\n",
    "    else{                                                  else{\n",
    "        x * fat(x - 1)                                         return x * fat(x - 1);\n",
    "    }                                                      }\n",
    "}                                                        }\n",
    "a = fat(5)                                               int main(){\n",
    "a                                                           printf(\"%d\\n\", fat(5));\n",
    "                                                            return 0;\n",
    "                                                         }\n",
    "```\n",
    "\n",
    "Como pode ser observado acima, não há a necessidade da criação de uma fução main, ou seja, podem ser feitos programas mais rapidamente como uma linguagem de console, ou por linhas de comando. Um exemplo na linguagem pode ser observado abaixo:"
   ]
  },
  {
   "cell_type": "code",
   "execution_count": 6,
   "metadata": {},
   "outputs": [
    {
     "data": {
      "text/plain": [
       "10.0"
      ]
     },
     "execution_count": 6,
     "metadata": {},
     "output_type": "execute_result"
    }
   ],
   "source": [
    "code = parse(\"\"\"\n",
    "    x = 0;\n",
    "    while(x < 10){\n",
    "        x = x + 1\n",
    "    };\n",
    "    \n",
    "    x\n",
    "\"\"\")\n",
    "code = CscriptTransformer().transform(code)\n",
    "eval(code, {})"
   ]
  },
  {
   "cell_type": "markdown",
   "metadata": {},
   "source": [
    "### Funcionalidades\n",
    "----------------------------------------\n",
    "A linguagem atualmente conta com as seguintes funcionalidades já implementadas:\n",
    "* Operações básicas\n",
    "    * Soma\n",
    "    * Subtração\n",
    "    * Multiplicação\n",
    "    * Divisão\n",
    "    * Potenciação\n",
    "* Condicionais\n",
    "    * < , > , <= , >= , ==\n",
    "    * if\n",
    "    * else if\n",
    "    * else\n",
    "    * Operador ternário\n",
    "* Loops\n",
    "    * for\n",
    "    * while\n",
    "* Funções\n",
    "    * Declaradas com o prefixo <i>func</i>"
   ]
  },
  {
   "cell_type": "code",
   "execution_count": 7,
   "metadata": {},
   "outputs": [
    {
     "data": {
      "text/plain": [
       "True"
      ]
     },
     "execution_count": 7,
     "metadata": {},
     "output_type": "execute_result"
    }
   ],
   "source": [
    "code = parse(\"\"\"\n",
    "    b = 2;\n",
    "    b = b == 2 ? T : F;\n",
    "    b\n",
    "\"\"\")\n",
    "code = CscriptTransformer().transform(code)\n",
    "eval(code, {})"
   ]
  },
  {
   "cell_type": "markdown",
   "metadata": {},
   "source": [
    "Como pode-se observar no exemplo acima também é possível alterar o tipo das variáveis declaradas."
   ]
  },
  {
   "cell_type": "code",
   "execution_count": 31,
   "metadata": {},
   "outputs": [
    {
     "data": {
      "text/plain": [
       "5040.0"
      ]
     },
     "execution_count": 31,
     "metadata": {},
     "output_type": "execute_result"
    }
   ],
   "source": [
    "code = parse(\"\"\"\n",
    "    x = 7;\n",
    "    count = 1;\n",
    "    temp = 1;\n",
    "    while(temp <= x){\n",
    "        count = count * temp;\n",
    "\n",
    "        temp = temp + 1\n",
    "    };\n",
    "    \n",
    "    count\n",
    "    \n",
    "\"\"\")\n",
    "code = CscriptTransformer().transform(code)\n",
    "env = {}\n",
    "eval(code, env)"
   ]
  }
 ],
 "metadata": {
  "colab": {
   "collapsed_sections": [],
   "name": "cscript.ipynb",
   "provenance": []
  },
  "kernelspec": {
   "display_name": "Python 3",
   "language": "python",
   "name": "python3"
  },
  "language_info": {
   "codemirror_mode": {
    "name": "ipython",
    "version": 3
   },
   "file_extension": ".py",
   "mimetype": "text/x-python",
   "name": "python",
   "nbconvert_exporter": "python",
   "pygments_lexer": "ipython3",
   "version": "3.7.5"
  }
 },
 "nbformat": 4,
 "nbformat_minor": 1
}
